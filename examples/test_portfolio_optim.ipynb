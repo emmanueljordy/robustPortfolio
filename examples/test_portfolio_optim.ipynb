{
 "cells": [
  {
   "cell_type": "code",
   "execution_count": null,
   "metadata": {},
   "outputs": [],
   "source": [
    "import numpy as np\n",
    "import pandas as pd\n",
    "import matplotlib.pyplot as plt\n",
    "import seaborn as sns\n",
    "import dcor as dc\n",
    "from scipy.cluster.hierarchy import linkage, cut_tree, dendrogram\n",
    "from scipy.spatial.distance import squareform\n",
    "from scipy.stats import norm\n",
    "from math import sqrt,  tanh, ceil, log, cos, pi, sin\n",
    "import seaborn as sns\n",
    "import time\n",
    "from numpy.linalg import inv\n",
    "from numpy import linalg as LA\n",
    "import random\n",
    "from IPython.display import display, Math, Latex\n",
    "from scipy.io import loadmat\n",
    "from scipy.linalg import pinv2, sqrtm\n",
    "from scipy.optimize import minimize\n",
    "from scipy.linalg import orth"
   ]
  },
  {
   "cell_type": "code",
   "execution_count": null,
   "metadata": {},
   "outputs": [],
   "source": [
    "# import functions from necessary files \n",
    "import os\n",
    "original_dir = os.getcwd()\n",
    "os.chdir('..\\\\src\\\\robustOptimPack\\\\Utils')\n",
    "from helper_funcs import *\n",
    "os.chdir('..\\\\src\\\\robustOptimPack\\\\MVPortfolio')\n",
    "from MVPortfolio_funcs import *\n",
    "os.chdir('..\\\\src\\\\robustOptimPack\\\\HCPortfolio')\n",
    "from HCPortfolio_funcs import *\n",
    "os.chdir('..\\\\src\\\\robustOptimPack\\\\PortfolioBacktest')\n",
    "from Backtest_funcs import *\n",
    "os.chdir('..\\\\src\\\\robustOptimPack\\\\wrapping')\n",
    "from wrapping_funcs import *\n",
    "os.chdir(original_dir)"
   ]
  },
  {
   "cell_type": "code",
   "execution_count": null,
   "metadata": {},
   "outputs": [],
   "source": [
    "# Import data \n",
    "crypto_prices = pd.read_csv('..\\\\data\\\\crypto_daily_close2.csv')\n",
    "crypto_volumes = pd.read_csv('..\\\\data\\\\crypto_daily_volume2.csv')\n",
    "tradA_prices = pd.read_csv('..\\\\data\\\\tradA.csv')\n",
    "tradA_prices['Date'] = pd.to_datetime(tradA_prices['Date'])\n",
    "tradA_prices.set_index('Date', inplace = True)\n",
    "crypto_prices['Date'] = pd.to_datetime(crypto_prices['Date'])\n",
    "crypto_volumes['Date'] = pd.to_datetime(crypto_volumes['Date'])\n",
    "crypto_prices.set_index('Date', inplace = True)\n",
    "crypto_volumes.set_index('Date', inplace = True)\n",
    "crypto_prices = crypto_prices.loc['2015-01-01':'2021-10-31']\n",
    "crypto_volumes = crypto_volumes.loc['2015-01-01':'2021-10-31']\n",
    "stable_coins_names = ['USDT', 'USDC',  'BUSD', 'UST','DAI', 'UST', 'TUSD', 'USDP','USDN', 'RSR', 'FEI', 'HUSD', 'FRAX', 'LUSD', 'TRIBE', 'USDX', 'GUSD', 'XSGD', 'GUSD', 'CUSD', 'VAI', 'SUSD','EURS']\n",
    "crypto_prices = crypto_prices[crypto_prices.columns.difference(stable_coins_names)]\n",
    "crypto_volumes = crypto_volumes[crypto_volumes.columns.difference(stable_coins_names)]\n",
    "crypto_returns = compute_returns(crypto_prices)\n",
    "crypto_log_returns = compute_log_returns(crypto_prices)\n",
    "tradA_returns = compute_returns(tradA_prices)\n",
    "crypto_returns = crypto_returns.loc[crypto_returns.index.isin(tradA_returns.index)]\n",
    "crypto_log_returns = crypto_log_returns.loc[crypto_log_returns.index.isin(tradA_returns.index)]\n"
   ]
  },
  {
   "cell_type": "code",
   "execution_count": null,
   "metadata": {},
   "outputs": [],
   "source": [
    "test_window = 21\n",
    "train_window = 126\n",
    "n_assets = 20\n"
   ]
  },
  {
   "cell_type": "code",
   "execution_count": null,
   "metadata": {},
   "outputs": [],
   "source": [
    "n_assets = 20\n",
    "portfolio_equal_crypto = EqualWeightPortfolio(asset_names=list(crypto_prices.columns.values)[0:n_assets] , data=crypto_log_returns, is_price_data=False, risk_free_rate=0, period_length=1, name='EW', init_amount_invested=1)\n",
    "\n",
    "\n",
    "portfolio_cov_crypto = MVPortfolio(asset_names=list(crypto_prices.columns.values)[0:n_assets], data=crypto_log_returns, is_price_data=False, risk_free_rate=0, period_length=1, name='MV',init_amount_invested=1,long_only=True)\n",
    "\n",
    "portfolio_HRP_crypto_cor_average = HRP_portfolio(asset_names=list(crypto_prices.columns.values)[0:n_assets] , data=crypto_log_returns, is_price_data=False, risk_free_rate=0, period_length=1, name='HRP_cor', init_amount_invested=1, \n",
    "                                             cov_method = 'sample', cor_method = 'sample', linkage_method = \"average\")\n",
    "\n",
    "portfolio_HRP_crypto_dcor_average = HRP_portfolio(asset_names=list(crypto_prices.columns.values)[0:n_assets] , data=crypto_log_returns, is_price_data=False, risk_free_rate=0, period_length=1, name='HRP_dcor', init_amount_invested=1, \n",
    "                                             cov_method = 'sample', cor_method = 'dcor', linkage_method = \"average\")\n",
    "\n",
    "portfolio_HRP_crypto_wcor_average = HRP_portfolio(asset_names=list(crypto_prices.columns.values)[0:n_assets] , data=crypto_log_returns, is_price_data=False, risk_free_rate=0, period_length=1, name='HRP_wcor', init_amount_invested=1, \n",
    "                                             cov_method = 'sample', cor_method = 'robust_cor', linkage_method = \"average\")\n",
    "\n",
    "portfolio_HRP_crypto_wdcor_average = HRP_portfolio(asset_names=list(crypto_prices.columns.values)[0:n_assets] , data=crypto_log_returns, is_price_data=False, risk_free_rate=0, period_length=1, name='HRP_wdcor', init_amount_invested=1, \n",
    "                                             cov_method = 'sample', cor_method = 'robust_dcor', linkage_method = \"average\")\n",
    "\n",
    "portfolio_HERC_crypto_cor_average_sil = HERC_portfolio(asset_names=list(crypto_prices.columns.values)[0:n_assets] , data=crypto_log_returns, is_price_data=False, risk_free_rate=0, period_length=1, name='HERC_cor_sil', init_amount_invested=1, \n",
    "                                             cov_method = 'sample', cor_method = 'sample', linkage_method = \"average\",num_clusters_method = 'silhouette' )\n",
    "\n",
    "portfolio_HERC_crypto_dcor_average_sil = HERC_portfolio(asset_names=list(crypto_prices.columns.values)[0:n_assets] , data=crypto_log_returns, is_price_data=False, risk_free_rate=0, period_length=1, name='HERC_dcor_sil', init_amount_invested=1, \n",
    "                                             cov_method = 'sample', cor_method = 'dcor', linkage_method = \"average\", num_clusters_method = 'silhouette')\n",
    "\n",
    "portfolio_HERC_crypto_wcor_average_sil = HERC_portfolio(asset_names=list(crypto_prices.columns.values)[0:n_assets] , data=crypto_log_returns, is_price_data=False, risk_free_rate=0, period_length=1, name='HERC_wcor_sil', init_amount_invested=1, \n",
    "                                             cov_method = 'sample', cor_method = 'robust_cor', linkage_method = \"average\",num_clusters_method = 'silhouette')\n",
    "\n",
    "portfolio_HERC_crypto_wdcor_average_sil = HERC_portfolio(asset_names=list(crypto_prices.columns.values)[0:n_assets] , data=crypto_log_returns, is_price_data=False, risk_free_rate=0, period_length=1, name='HERC_wdcor_sil', init_amount_invested=1, \n",
    "                                             cov_method = 'sample', cor_method = 'robust_dcor', linkage_method = \"average\",num_clusters_method = 'silhouette')\n",
    "\n",
    "portfolio_cluster_sharpe_sil = max_cluster_portfolio(asset_names=list(crypto_prices.columns.values)[0:n_assets] , data=crypto_log_returns, is_price_data=False, risk_free_rate=0, period_length=1, name='cluster_sharpe', init_amount_invested=1, \n",
    "                                             cor_method = 'sample', linkage_method = \"complete\", num_clusters_type = 'fixed', num_clusters_method = 'fixed', max_num_clusters = 4, risk_method = \"sharpe\" )\n",
    "\n",
    "portfolio_cluster_CVaR_sil = max_cluster_portfolio(asset_names=list(crypto_prices.columns.values)[0:n_assets] , data=crypto_log_returns, is_price_data=False, risk_free_rate=0, period_length=1, name='cluster_CVaR', init_amount_invested=1, \n",
    "                                             cor_method = 'sample', linkage_method = \"average\", num_clusters_type = 'search', num_clusters_method = 'silhouette', risk_method = \"CVaR\" )\n",
    "\n",
    "portfolio_cluster_sharpe_sil_dcor = max_cluster_portfolio(asset_names=list(crypto_prices.columns.values)[0:n_assets] , data=crypto_log_returns, is_price_data=False, risk_free_rate=0, period_length=1, name='cluster_sharpe_dcor', init_amount_invested=1, \n",
    "                                             cor_method = 'dcor', linkage_method = \"complete\", num_clusters_type = 'fixed', num_clusters_method = 'fixed',max_num_clusters = 4, risk_method = \"sharpe\" )\n",
    "\n",
    "portfolio_cluster_CVaR_sil_dcor = max_cluster_portfolio(asset_names=list(crypto_prices.columns.values)[0:n_assets] , data=crypto_log_returns, is_price_data=False, risk_free_rate=0, period_length=1, name='cluster_CVaR_dcor', init_amount_invested=1, \n",
    "                                             cor_method = 'dcor', linkage_method = \"average\", num_clusters_type = 'search', num_clusters_method = 'silhouette', risk_method = \"CVaR\" )\n",
    "\n",
    "\n",
    "portfolio_cluster_sharpe_sil_wcor = max_cluster_portfolio(asset_names=list(crypto_prices.columns.values)[0:n_assets] , data=crypto_log_returns, is_price_data=False, risk_free_rate=0, period_length=1, name='cluster_sharpe_wcor', init_amount_invested=1, \n",
    "                                             cor_method = 'robust_cor', linkage_method = \"complete\", num_clusters_type = 'fixed', num_clusters_method = 'fixed',max_num_clusters = 4, risk_method = \"sharpe\" )\n",
    "\n",
    "portfolio_cluster_CVaR_sil_wcor = max_cluster_portfolio(asset_names=list(crypto_prices.columns.values)[0:n_assets] , data=crypto_log_returns, is_price_data=False, risk_free_rate=0, period_length=1, name='cluster_CVaR_wcor', init_amount_invested=1, \n",
    "                                             cor_method = 'robust_cor', linkage_method = \"average\", num_clusters_type = 'search', num_clusters_method = 'silhouette', risk_method = \"CVaR\" )\n",
    "\n",
    "\n",
    "portfolio_cluster_sharpe_sil_wdcor = max_cluster_portfolio(asset_names=list(crypto_prices.columns.values)[0:n_assets] , data=crypto_log_returns, is_price_data=False, risk_free_rate=0, period_length=1, name='cluster_sharpe_wdcor', init_amount_invested=1, \n",
    "                                             cor_method = 'robust_dcor', linkage_method = \"complete\", num_clusters_type = 'fixed', num_clusters_method = 'fixed',max_num_clusters = 4, risk_method = \"sharpe\" )\n",
    "\n",
    "portfolio_cluster_CVaR_sil_wdcor = max_cluster_portfolio(asset_names=list(crypto_prices.columns.values)[0:n_assets] , data=crypto_log_returns, is_price_data=False, risk_free_rate=0, period_length=1, name='cluster_CVaR_wdcor', init_amount_invested=1, \n",
    "                                             cor_method = 'robust_dcor', linkage_method = \"average\", num_clusters_type = 'search', num_clusters_method = 'silhouette', risk_method = \"CVaR\" )\n",
    "\n",
    "\n",
    "list_of_portfolios = [portfolio_equal_crypto, portfolio_cov_crypto, \n",
    "                    portfolio_HRP_crypto_cor_average,portfolio_HRP_crypto_dcor_average,portfolio_HRP_crypto_wcor_average,portfolio_HRP_crypto_wdcor_average,\n",
    "                    portfolio_HERC_crypto_cor_average_sil,portfolio_HERC_crypto_dcor_average_sil,portfolio_HERC_crypto_wcor_average_sil,portfolio_HERC_crypto_wdcor_average_sil,\n",
    "                    portfolio_cluster_sharpe_sil,\n",
    "                      portfolio_cluster_CVaR_sil, \n",
    "                      portfolio_cluster_sharpe_sil_dcor, \n",
    "                      portfolio_cluster_CVaR_sil_dcor, \n",
    "                      portfolio_cluster_sharpe_sil_wcor, \n",
    "                      portfolio_cluster_CVaR_sil_wcor, \n",
    "                      portfolio_cluster_sharpe_sil_wdcor,\n",
    "                      portfolio_cluster_CVaR_sil_wdcor, \n",
    "]"
   ]
  },
  {
   "cell_type": "code",
   "execution_count": null,
   "metadata": {},
   "outputs": [],
   "source": [
    "portfolios_backtest_crypto = backtest_crypto_portfolios(list_of_portfolios,returns_data=crypto_returns,\n",
    "                                                        log_returns_data = crypto_returns, tradA_data = tradA_returns,\n",
    "                                                        is_price_data=False, volumes = crypto_volumes.iloc[1:,], dates = crypto_returns.index, K=n_assets, \n",
    "                                                        train_window_size = train_window, transaction_cost = 0,\n",
    "                                                        test_window_size = test_window,rebalance_window_size=test_window)\n",
    "portfolios_backtest_crypto.run_backtest()"
   ]
  },
  {
   "cell_type": "code",
   "execution_count": null,
   "metadata": {},
   "outputs": [],
   "source": [
    "portfolios_backtest_crypto.out_of_sample_results().to_latex()"
   ]
  },
  {
   "cell_type": "code",
   "execution_count": null,
   "metadata": {},
   "outputs": [],
   "source": []
  },
  {
   "cell_type": "code",
   "execution_count": null,
   "metadata": {},
   "outputs": [],
   "source": []
  },
  {
   "cell_type": "code",
   "execution_count": null,
   "metadata": {},
   "outputs": [],
   "source": []
  },
  {
   "cell_type": "code",
   "execution_count": null,
   "metadata": {},
   "outputs": [],
   "source": []
  },
  {
   "cell_type": "code",
   "execution_count": null,
   "metadata": {},
   "outputs": [],
   "source": []
  },
  {
   "cell_type": "code",
   "execution_count": null,
   "metadata": {},
   "outputs": [],
   "source": []
  },
  {
   "cell_type": "code",
   "execution_count": null,
   "metadata": {},
   "outputs": [],
   "source": []
  }
 ],
 "metadata": {
  "kernelspec": {
   "display_name": "Python 3",
   "language": "python",
   "name": "python3"
  },
  "language_info": {
   "codemirror_mode": {
    "name": "ipython",
    "version": 3
   },
   "file_extension": ".py",
   "mimetype": "text/x-python",
   "name": "python",
   "nbconvert_exporter": "python",
   "pygments_lexer": "ipython3",
   "version": "3.10.4"
  },
  "orig_nbformat": 4,
  "vscode": {
   "interpreter": {
    "hash": "cda5cde29ce07f96d51a55ad73b9f38ae050a9d49c61f2f032448cd03239e39e"
   }
  }
 },
 "nbformat": 4,
 "nbformat_minor": 2
}
